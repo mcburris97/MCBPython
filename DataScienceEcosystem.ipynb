{
 "cells": [
  {
   "cell_type": "markdown",
   "id": "f47a84af-a629-46d2-b232-51d767608eac",
   "metadata": {},
   "source": [
    "# Data Science Tools Ecosystem"
   ]
  },
  {
   "cell_type": "markdown",
   "id": "2d9bafc3-caae-4b68-8d11-80b96a57e1ad",
   "metadata": {},
   "source": [
    "In this notebook, Data Science Tools and Ecosystem are summarized"
   ]
  },
  {
   "cell_type": "markdown",
   "id": "d0b34ee3-7c5f-4351-a4ec-3736b6978a4e",
   "metadata": {
    "tags": []
   },
   "source": [
    "**Objectives**"
   ]
  },
  {
   "cell_type": "markdown",
   "id": "07981e1e-6d0f-4ea9-8d8b-fb1b557a990c",
   "metadata": {
    "tags": []
   },
   "source": [
    "- List popular languages for Data Science\n",
    "- List commonly used Data Science libraries\n",
    "- List Data Science Tools\n",
    "- Provide arithmetic examples in python"
   ]
  },
  {
   "cell_type": "markdown",
   "id": "4b6a2176-78de-4e76-a751-c49c53a95532",
   "metadata": {},
   "source": [
    "#### Some of the popular languages that Data Scientists use are:"
   ]
  },
  {
   "cell_type": "markdown",
   "id": "6870d642-d7d3-4b41-a731-b025a2d56a3b",
   "metadata": {
    "tags": []
   },
   "source": [
    "1. Python\n",
    "2. SQL\n",
    "3. R"
   ]
  },
  {
   "cell_type": "markdown",
   "id": "ad832115-37b3-4987-b80e-c2b1fad3cf65",
   "metadata": {},
   "source": [
    "#### Some of the commonly used libraries used by Data Scientists include:"
   ]
  },
  {
   "cell_type": "markdown",
   "id": "028b2949-1df3-4b4a-a36f-dbde20f416c2",
   "metadata": {},
   "source": [
    "1. Numpy\n",
    "2. Pandas\n",
    "3. Matplotlib\n",
    "4. Seaborn"
   ]
  },
  {
   "cell_type": "markdown",
   "id": "a28b8009-bf7d-4711-adda-fde164e30ee2",
   "metadata": {
    "tags": []
   },
   "source": [
    "#### Data Science Tools"
   ]
  },
  {
   "cell_type": "markdown",
   "id": "67a0343c-a200-4434-8f5d-a40fb67cf522",
   "metadata": {},
   "source": [
    "1. Jupyter Notebook\n",
    "2. Jupyter Lab\n",
    "3. VS Code"
   ]
  },
  {
   "cell_type": "markdown",
   "id": "62536323-c9b6-440d-888c-7e6028f8d1ac",
   "metadata": {},
   "source": [
    "### Below are a few examples of evaluating arithmetic expressions in python"
   ]
  },
  {
   "cell_type": "code",
   "execution_count": 4,
   "id": "13e62352-fefc-4e9a-84de-957af1b7620d",
   "metadata": {
    "tags": []
   },
   "outputs": [],
   "source": [
    "# This is a simple arithmetic expression to multiply integers"
   ]
  },
  {
   "cell_type": "code",
   "execution_count": 5,
   "id": "836c3019-cdce-45e7-8147-33f22016d826",
   "metadata": {
    "tags": []
   },
   "outputs": [
    {
     "data": {
      "text/plain": [
       "17"
      ]
     },
     "execution_count": 5,
     "metadata": {},
     "output_type": "execute_result"
    }
   ],
   "source": [
    "(3*4)+5"
   ]
  },
  {
   "cell_type": "code",
   "execution_count": 6,
   "id": "fa8e1a93-aa76-4e15-9e2f-762af6cf99fc",
   "metadata": {
    "tags": []
   },
   "outputs": [],
   "source": [
    "# This will convert 200 minutes to hours by dividing by 60"
   ]
  },
  {
   "cell_type": "code",
   "execution_count": 7,
   "id": "29d5d90d-786d-4b58-bf38-6cf015827662",
   "metadata": {
    "tags": []
   },
   "outputs": [
    {
     "data": {
      "text/plain": [
       "3.3333333333333335"
      ]
     },
     "execution_count": 7,
     "metadata": {},
     "output_type": "execute_result"
    }
   ],
   "source": [
    "200 / 60"
   ]
  },
  {
   "cell_type": "markdown",
   "id": "20c95311-f8e9-4a2c-a721-cf7d4d7e74d6",
   "metadata": {},
   "source": [
    "## Author"
   ]
  },
  {
   "cell_type": "markdown",
   "id": "9a0d9808-3312-4158-80f4-22e1f453a542",
   "metadata": {
    "tags": []
   },
   "source": [
    "Michael Burris"
   ]
  }
 ],
 "metadata": {
  "kernelspec": {
   "display_name": "Python",
   "language": "python",
   "name": "conda-env-python-py"
  },
  "language_info": {
   "codemirror_mode": {
    "name": "ipython",
    "version": 3
   },
   "file_extension": ".py",
   "mimetype": "text/x-python",
   "name": "python",
   "nbconvert_exporter": "python",
   "pygments_lexer": "ipython3",
   "version": "3.7.12"
  }
 },
 "nbformat": 4,
 "nbformat_minor": 5
}
